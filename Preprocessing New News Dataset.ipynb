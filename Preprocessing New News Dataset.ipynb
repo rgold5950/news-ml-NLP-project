{
 "cells": [
  {
   "cell_type": "code",
   "execution_count": 2,
   "metadata": {},
   "outputs": [],
   "source": [
    "import pandas as pd\n",
    "# import new data from the news api output\n",
    "new_file_url = r\"C:\\Users\\goldm\\News API\\combinedTopics_1-5_import_ready.csv\"\n",
    "new_articles_df = pd.read_csv(new_file_url)"
   ]
  },
  {
   "cell_type": "code",
   "execution_count": 3,
   "metadata": {},
   "outputs": [
    {
     "data": {
      "text/html": [
       "<div>\n",
       "<style scoped>\n",
       "    .dataframe tbody tr th:only-of-type {\n",
       "        vertical-align: middle;\n",
       "    }\n",
       "\n",
       "    .dataframe tbody tr th {\n",
       "        vertical-align: top;\n",
       "    }\n",
       "\n",
       "    .dataframe thead th {\n",
       "        text-align: right;\n",
       "    }\n",
       "</style>\n",
       "<table border=\"1\" class=\"dataframe\">\n",
       "  <thead>\n",
       "    <tr style=\"text-align: right;\">\n",
       "      <th></th>\n",
       "      <th>id</th>\n",
       "      <th>publication</th>\n",
       "      <th>date</th>\n",
       "      <th>content</th>\n",
       "    </tr>\n",
       "  </thead>\n",
       "  <tbody>\n",
       "    <tr>\n",
       "      <th>0</th>\n",
       "      <td>217418</td>\n",
       "      <td>Global News</td>\n",
       "      <td>7/8/2021 14:23</td>\n",
       "      <td>Haiti in state of emergency after President Jo...</td>\n",
       "    </tr>\n",
       "    <tr>\n",
       "      <th>1</th>\n",
       "      <td>217419</td>\n",
       "      <td>@ChinaDailyApp</td>\n",
       "      <td>1/4/2021 11:00</td>\n",
       "      <td>MEXICO CITY - Haitian police have arrested two...</td>\n",
       "    </tr>\n",
       "    <tr>\n",
       "      <th>2</th>\n",
       "      <td>217420</td>\n",
       "      <td>Reuters</td>\n",
       "      <td>7/7/2021 13:43</td>\n",
       "      <td>Haiti's President Jovenel Moise speaks during ...</td>\n",
       "    </tr>\n",
       "    <tr>\n",
       "      <th>3</th>\n",
       "      <td>217421</td>\n",
       "      <td>The White House</td>\n",
       "      <td>7/7/2021 14:53</td>\n",
       "      <td>We are shocked and saddened to hear of the hor...</td>\n",
       "    </tr>\n",
       "    <tr>\n",
       "      <th>4</th>\n",
       "      <td>217422</td>\n",
       "      <td>nypost.com</td>\n",
       "      <td>7/9/2021</td>\n",
       "      <td>1  of\\n\\nThe late Jovenel Moise, whom was kill...</td>\n",
       "    </tr>\n",
       "  </tbody>\n",
       "</table>\n",
       "</div>"
      ],
      "text/plain": [
       "       id      publication            date  \\\n",
       "0  217418      Global News  7/8/2021 14:23   \n",
       "1  217419   @ChinaDailyApp  1/4/2021 11:00   \n",
       "2  217420          Reuters  7/7/2021 13:43   \n",
       "3  217421  The White House  7/7/2021 14:53   \n",
       "4  217422       nypost.com        7/9/2021   \n",
       "\n",
       "                                             content  \n",
       "0  Haiti in state of emergency after President Jo...  \n",
       "1  MEXICO CITY - Haitian police have arrested two...  \n",
       "2  Haiti's President Jovenel Moise speaks during ...  \n",
       "3  We are shocked and saddened to hear of the hor...  \n",
       "4  1  of\\n\\nThe late Jovenel Moise, whom was kill...  "
      ]
     },
     "execution_count": 3,
     "metadata": {},
     "output_type": "execute_result"
    }
   ],
   "source": [
    "new_articles_df_shortened = new_articles_df[['id','article.site_name', 'article.pub_date', 'article.text']]\n",
    "new_articles_df_shortened.columns = ['id','publication','date','content']\n",
    "new_articles_df_shortened.head()"
   ]
  },
  {
   "cell_type": "code",
   "execution_count": 4,
   "metadata": {},
   "outputs": [
    {
     "name": "stderr",
     "output_type": "stream",
     "text": [
      "<ipython-input-4-62d4fa40f387>:2: SettingWithCopyWarning: \n",
      "A value is trying to be set on a copy of a slice from a DataFrame.\n",
      "Try using .loc[row_indexer,col_indexer] = value instead\n",
      "\n",
      "See the caveats in the documentation: https://pandas.pydata.org/pandas-docs/stable/user_guide/indexing.html#returning-a-view-versus-a-copy\n",
      "  new_articles_df_shortened['date'] = pd.DataFrame(['2016-09-01' for date in range(0,new_articles_df_shortened.shape[0])])\n"
     ]
    }
   ],
   "source": [
    "#changing the date to be the exact same as the '2016-09-01'\n",
    "new_articles_df_shortened['date'] = pd.DataFrame(['2016-09-01' for date in range(0,new_articles_df_shortened.shape[0])])"
   ]
  },
  {
   "cell_type": "code",
   "execution_count": 5,
   "metadata": {},
   "outputs": [],
   "source": [
    "new_articles_df_shortened.to_csv(r\"C:\\Users\\goldm\\Capstone\\data\\new_article_dataset_topics1-5_readytoload.csv\")"
   ]
  },
  {
   "cell_type": "code",
   "execution_count": null,
   "metadata": {},
   "outputs": [],
   "source": []
  }
 ],
 "metadata": {
  "kernelspec": {
   "display_name": "Python 3",
   "language": "python",
   "name": "python3"
  },
  "language_info": {
   "codemirror_mode": {
    "name": "ipython",
    "version": 3
   },
   "file_extension": ".py",
   "mimetype": "text/x-python",
   "name": "python",
   "nbconvert_exporter": "python",
   "pygments_lexer": "ipython3",
   "version": "3.8.3"
  }
 },
 "nbformat": 4,
 "nbformat_minor": 4
}
