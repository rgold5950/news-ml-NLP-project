{
 "cells": [
  {
   "cell_type": "code",
   "execution_count": 4,
   "metadata": {},
   "outputs": [],
   "source": [
    "import pandas as pd"
   ]
  },
  {
   "cell_type": "code",
   "execution_count": null,
   "metadata": {},
   "outputs": [],
   "source": []
  },
  {
   "cell_type": "code",
   "execution_count": 17,
   "metadata": {},
   "outputs": [],
   "source": [
    "new_file_url = r\"C:\\Users\\goldm\\News API\\combinedTopics_1-5_import_ready.csv\"\n",
    "new_articles_df = pd.read_csv(new_file_url)\n",
    "new_articles_df_shortened = new_articles_df[['id','article.site_name', 'article.pub_date', 'article.text']]\n",
    "new_articles_df_shortened.columns = ['id','publication','date','content']"
   ]
  },
  {
   "cell_type": "code",
   "execution_count": 19,
   "metadata": {},
   "outputs": [
    {
     "data": {
      "text/plain": [
       "[217479,\n",
       " 217480,\n",
       " 217503,\n",
       " 217512,\n",
       " 217515,\n",
       " 217516,\n",
       " 217518,\n",
       " 217525,\n",
       " 217537,\n",
       " 217538]"
      ]
     },
     "execution_count": 19,
     "metadata": {},
     "output_type": "execute_result"
    }
   ],
   "source": [
    "targetString = \"Yahoo ist Teil von  Verizon Media\"\n",
    "list_eliminations = list(new_articles_df_shortened[new_articles_df_shortened['content'].str.contains(targetString)==True]['id'])\n",
    "list_eliminations"
   ]
  },
  {
   "cell_type": "code",
   "execution_count": 10,
   "metadata": {},
   "outputs": [],
   "source": [
    "new_articles_df_shortened=new_articles_df_shortened[new_articles_df_shortened['content'].str.contains(targetString)==False]"
   ]
  },
  {
   "cell_type": "code",
   "execution_count": 11,
   "metadata": {},
   "outputs": [
    {
     "data": {
      "text/plain": [
       "112"
      ]
     },
     "execution_count": 11,
     "metadata": {},
     "output_type": "execute_result"
    }
   ],
   "source": [
    "len(new_articles_df_shortened)"
   ]
  },
  {
   "cell_type": "code",
   "execution_count": 18,
   "metadata": {},
   "outputs": [
    {
     "data": {
      "text/html": [
       "<div>\n",
       "<style scoped>\n",
       "    .dataframe tbody tr th:only-of-type {\n",
       "        vertical-align: middle;\n",
       "    }\n",
       "\n",
       "    .dataframe tbody tr th {\n",
       "        vertical-align: top;\n",
       "    }\n",
       "\n",
       "    .dataframe thead th {\n",
       "        text-align: right;\n",
       "    }\n",
       "</style>\n",
       "<table border=\"1\" class=\"dataframe\">\n",
       "  <thead>\n",
       "    <tr style=\"text-align: right;\">\n",
       "      <th></th>\n",
       "      <th>id</th>\n",
       "      <th>publication</th>\n",
       "      <th>date</th>\n",
       "      <th>content</th>\n",
       "    </tr>\n",
       "  </thead>\n",
       "  <tbody>\n",
       "    <tr>\n",
       "      <th>61</th>\n",
       "      <td>217479</td>\n",
       "      <td>news.yahoo.com</td>\n",
       "      <td>NaN</td>\n",
       "      <td>Yahoo ist Teil von  Verizon Media  .\\nDurch Kl...</td>\n",
       "    </tr>\n",
       "    <tr>\n",
       "      <th>62</th>\n",
       "      <td>217480</td>\n",
       "      <td>news.yahoo.com</td>\n",
       "      <td>NaN</td>\n",
       "      <td>Yahoo ist Teil von  Verizon Media  .\\nDurch Kl...</td>\n",
       "    </tr>\n",
       "    <tr>\n",
       "      <th>85</th>\n",
       "      <td>217503</td>\n",
       "      <td>news.yahoo.com</td>\n",
       "      <td>NaN</td>\n",
       "      <td>Yahoo ist Teil von  Verizon Media  .\\nDurch Kl...</td>\n",
       "    </tr>\n",
       "    <tr>\n",
       "      <th>94</th>\n",
       "      <td>217512</td>\n",
       "      <td>news.yahoo.com</td>\n",
       "      <td>NaN</td>\n",
       "      <td>Yahoo ist Teil von  Verizon Media  .\\nDurch Kl...</td>\n",
       "    </tr>\n",
       "    <tr>\n",
       "      <th>97</th>\n",
       "      <td>217515</td>\n",
       "      <td>news.yahoo.com</td>\n",
       "      <td>NaN</td>\n",
       "      <td>Yahoo ist Teil von  Verizon Media  .\\nDurch Kl...</td>\n",
       "    </tr>\n",
       "  </tbody>\n",
       "</table>\n",
       "</div>"
      ],
      "text/plain": [
       "        id     publication date  \\\n",
       "61  217479  news.yahoo.com  NaN   \n",
       "62  217480  news.yahoo.com  NaN   \n",
       "85  217503  news.yahoo.com  NaN   \n",
       "94  217512  news.yahoo.com  NaN   \n",
       "97  217515  news.yahoo.com  NaN   \n",
       "\n",
       "                                              content  \n",
       "61  Yahoo ist Teil von  Verizon Media  .\\nDurch Kl...  \n",
       "62  Yahoo ist Teil von  Verizon Media  .\\nDurch Kl...  \n",
       "85  Yahoo ist Teil von  Verizon Media  .\\nDurch Kl...  \n",
       "94  Yahoo ist Teil von  Verizon Media  .\\nDurch Kl...  \n",
       "97  Yahoo ist Teil von  Verizon Media  .\\nDurch Kl...  "
      ]
     },
     "execution_count": 18,
     "metadata": {},
     "output_type": "execute_result"
    }
   ],
   "source": []
  },
  {
   "cell_type": "code",
   "execution_count": 14,
   "metadata": {},
   "outputs": [
    {
     "data": {
      "text/plain": [
       "[]"
      ]
     },
     "execution_count": 14,
     "metadata": {},
     "output_type": "execute_result"
    }
   ],
   "source": []
  },
  {
   "cell_type": "code",
   "execution_count": null,
   "metadata": {},
   "outputs": [],
   "source": []
  }
 ],
 "metadata": {
  "kernelspec": {
   "display_name": "Python 3",
   "language": "python",
   "name": "python3"
  },
  "language_info": {
   "codemirror_mode": {
    "name": "ipython",
    "version": 3
   },
   "file_extension": ".py",
   "mimetype": "text/x-python",
   "name": "python",
   "nbconvert_exporter": "python",
   "pygments_lexer": "ipython3",
   "version": "3.8.3"
  }
 },
 "nbformat": 4,
 "nbformat_minor": 4
}
